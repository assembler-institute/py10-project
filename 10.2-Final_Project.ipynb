{
 "cells": [
  {
   "cell_type": "markdown",
   "id": "8375de15",
   "metadata": {},
   "source": [
    "# Final Project Solution\n",
    "\n",
    "Prepare the list:"
   ]
  },
  {
   "cell_type": "code",
   "execution_count": 8,
   "id": "2e12291f",
   "metadata": {
    "scrolled": true
   },
   "outputs": [],
   "source": [
    "class Person(object):\n",
    "    def __init__ (self, name, ID, address):\n",
    "        self.name = name\n",
    "        self.ID = ID\n",
    "        self.address = address\n",
    "\n",
    "    def display(self):\n",
    "        print('Name =', self.name)\n",
    "        print('ID =', self.ID)\n",
    "        print('Address =', self.address)\n",
    "        \n",
    "\n",
    "\n",
    "if __name__ == '__main__':\n",
    "    \n",
    "    root = 'Files/people.txt'\n",
    "    lines = list()\n",
    "    \n",
    "    try:\n",
    "        with open(root, encoding='utf-8') as f:\n",
    "            # start reading from second line\n",
    "            next(f)\n",
    "            lines = f.read().split('\\n')\n",
    "\n",
    "    except IOError:\n",
    "        print('ERROR: Could not open file', fichero)\n",
    "\n",
    "        \n",
    "    people_list = list()\n",
    "\n",
    "    \n",
    "    # process each line of the file (each item in the list)\n",
    "    for l in lines:        \n",
    "        person = Person(*l.split(';'))\n",
    "        \n",
    "        # Alternatively you can do\n",
    "        # data = l.split(';')\n",
    "        # person = Persona(data[0], data[1], data[2])\n",
    "            \n",
    "        people_list.append(person)"
   ]
  },
  {
   "cell_type": "markdown",
   "id": "d1aff875",
   "metadata": {},
   "source": [
    "Print components:"
   ]
  },
  {
   "cell_type": "code",
   "execution_count": 9,
   "id": "97a7d1c2",
   "metadata": {},
   "outputs": [
    {
     "name": "stdout",
     "output_type": "stream",
     "text": [
      "Name = pepe\n",
      "ID =  2345\n",
      "Address =  calle uno\n"
     ]
    }
   ],
   "source": [
    "people_list[0].display()"
   ]
  },
  {
   "cell_type": "code",
   "execution_count": null,
   "id": "30a9aa15",
   "metadata": {},
   "outputs": [],
   "source": [
    "for p in people_list:\n",
    "    p.display()\n",
    "    print()"
   ]
  }
 ],
 "metadata": {
  "kernelspec": {
   "display_name": "Python 3 (ipykernel)",
   "language": "python",
   "name": "python3"
  },
  "language_info": {
   "codemirror_mode": {
    "name": "ipython",
    "version": 3
   },
   "file_extension": ".py",
   "mimetype": "text/x-python",
   "name": "python",
   "nbconvert_exporter": "python",
   "pygments_lexer": "ipython3",
   "version": "3.9.12"
  },
  "toc": {
   "base_numbering": 1,
   "nav_menu": {},
   "number_sections": true,
   "sideBar": true,
   "skip_h1_title": true,
   "title_cell": "Table of Contents",
   "title_sidebar": "Contents",
   "toc_cell": false,
   "toc_position": {},
   "toc_section_display": true,
   "toc_window_display": false
  }
 },
 "nbformat": 4,
 "nbformat_minor": 5
}
